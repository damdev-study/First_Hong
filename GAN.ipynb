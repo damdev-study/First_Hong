{
 "cells": [
  {
   "cell_type": "code",
   "execution_count": 27,
   "metadata": {
    "scrolled": true
   },
   "outputs": [
    {
     "name": "stderr",
     "output_type": "stream",
     "text": [
      "\r",
      "  0%|                                                                                          | 0/210 [00:00<?, ?it/s]"
     ]
    },
    {
     "name": "stdout",
     "output_type": "stream",
     "text": [
      "(200, 200, 3)\n",
      "(200, 200, 3)\n",
      "(200, 200, 3)\n",
      "(200, 200, 3)\n",
      "(200, 200, 3)\n",
      "(200, 200, 3)\n",
      "(200, 200, 3)\n",
      "(200, 200, 3)\n",
      "(200, 200, 3)\n",
      "(200, 200, 3)\n",
      "(200, 200, 3)\n",
      "(200, 200, 3)\n",
      "(200, 200, 3)\n",
      "(200, 200, 3)\n",
      "(200, 200, 3)\n",
      "(200, 200, 3)\n"
     ]
    },
    {
     "name": "stderr",
     "output_type": "stream",
     "text": [
      "\r",
      "  8%|██████                                                                          | 16/210 [00:00<00:01, 159.58it/s]"
     ]
    },
    {
     "name": "stdout",
     "output_type": "stream",
     "text": [
      "(200, 200, 3)\n",
      "(200, 200, 3)\n",
      "(200, 200, 3)\n",
      "(200, 200, 3)\n",
      "(200, 200, 3)\n",
      "(200, 200, 3)\n",
      "(200, 200, 3)\n",
      "(200, 200, 3)\n",
      "(200, 200, 3)\n",
      "(200, 200, 3)\n",
      "(200, 200, 3)\n",
      "(200, 200, 3)\n",
      "(200, 200, 3)\n",
      "(200, 200, 3)\n",
      "(200, 200, 3)\n",
      "(200, 200, 3)\n",
      "(200, 200, 3)\n",
      "(200, 200, 3)\n"
     ]
    },
    {
     "name": "stderr",
     "output_type": "stream",
     "text": [
      "\r",
      " 16%|████████████▉                                                                   | 34/210 [00:00<00:01, 167.86it/s]"
     ]
    },
    {
     "name": "stdout",
     "output_type": "stream",
     "text": [
      "(200, 200, 3)\n",
      "(200, 200, 3)\n",
      "(200, 200, 3)\n",
      "(200, 200, 3)\n",
      "(200, 200, 3)\n",
      "(200, 200, 3)\n",
      "(200, 200, 3)\n",
      "(200, 200, 3)\n",
      "(200, 200, 3)\n",
      "(200, 200, 3)\n",
      "(200, 200, 3)\n",
      "(200, 200, 3)\n",
      "(200, 200, 3)\n",
      "(200, 200, 3)\n",
      "(200, 200, 3)\n",
      "(200, 200, 3)\n",
      "(200, 200, 3)\n",
      "(200, 200, 3)\n",
      "(200, 200, 3)\n"
     ]
    },
    {
     "name": "stderr",
     "output_type": "stream",
     "text": [
      "\r",
      " 25%|████████████████████▏                                                           | 53/210 [00:00<00:00, 172.18it/s]"
     ]
    },
    {
     "name": "stdout",
     "output_type": "stream",
     "text": [
      "(200, 200, 3)\n",
      "(200, 200, 3)\n",
      "(200, 200, 3)\n",
      "(200, 200, 3)\n",
      "(200, 200, 3)\n",
      "(200, 200, 3)\n",
      "(200, 200, 3)\n",
      "(200, 200, 3)\n",
      "(200, 200, 3)\n",
      "(200, 200, 3)\n",
      "(200, 200, 3)\n",
      "(200, 200, 3)\n",
      "(200, 200, 3)\n",
      "(200, 200, 3)\n",
      "(200, 200, 3)\n",
      "(200, 200, 3)\n"
     ]
    },
    {
     "name": "stderr",
     "output_type": "stream",
     "text": [
      "\r",
      " 33%|██████████████████████████▎                                                     | 69/210 [00:00<00:00, 169.08it/s]"
     ]
    },
    {
     "name": "stdout",
     "output_type": "stream",
     "text": [
      "(200, 200, 3)\n",
      "(200, 200, 3)\n",
      "(200, 200, 3)\n",
      "(200, 200, 3)\n",
      "(200, 200, 3)\n",
      "(200, 200, 3)\n",
      "(200, 200, 3)\n",
      "(200, 200, 3)\n",
      "(200, 200, 3)\n",
      "(200, 200, 3)\n",
      "(200, 200, 3)\n",
      "(200, 200, 3)\n",
      "(200, 200, 3)\n",
      "(200, 200, 3)\n",
      "(200, 200, 3)\n",
      "(200, 200, 3)\n",
      "(200, 200, 3)\n",
      "(200, 200, 3)\n",
      "(200, 200, 3)\n"
     ]
    },
    {
     "name": "stderr",
     "output_type": "stream",
     "text": [
      "\r",
      " 42%|█████████████████████████████████▌                                              | 88/210 [00:00<00:00, 172.43it/s]"
     ]
    },
    {
     "name": "stdout",
     "output_type": "stream",
     "text": [
      "(200, 200, 3)\n",
      "(200, 200, 3)\n",
      "(200, 200, 3)\n",
      "(200, 200, 3)\n",
      "(200, 200, 3)\n",
      "(200, 200, 3)\n",
      "(200, 200, 3)\n",
      "(200, 200, 3)\n",
      "(200, 200, 3)\n",
      "(200, 200, 3)\n",
      "(200, 200, 3)\n",
      "(200, 200, 3)\n",
      "(200, 200, 3)\n",
      "(200, 200, 3)\n",
      "(200, 200, 3)\n",
      "(200, 200, 3)\n",
      "(200, 200, 3)\n",
      "(200, 200, 3)\n",
      "(200, 200, 3)\n",
      "(200, 200, 3)\n"
     ]
    },
    {
     "name": "stderr",
     "output_type": "stream",
     "text": [
      "\r",
      " 51%|████████████████████████████████████████▋                                      | 108/210 [00:00<00:00, 176.00it/s]"
     ]
    },
    {
     "name": "stdout",
     "output_type": "stream",
     "text": [
      "(200, 200, 3)\n",
      "(200, 200, 3)\n",
      "(200, 200, 3)\n",
      "(200, 200, 3)\n",
      "(200, 200, 3)\n",
      "(200, 200, 3)\n",
      "(200, 200, 3)\n",
      "(200, 200, 3)\n",
      "(200, 200, 3)\n",
      "(200, 200, 3)\n",
      "(200, 200, 3)\n",
      "(200, 200, 3)\n",
      "(200, 200, 3)\n",
      "(200, 200, 3)\n",
      "(200, 200, 3)\n",
      "(200, 200, 3)\n",
      "(200, 200, 3)\n",
      "(200, 200, 3)\n",
      "(200, 200, 3)\n"
     ]
    },
    {
     "name": "stderr",
     "output_type": "stream",
     "text": [
      "\r",
      " 60%|███████████████████████████████████████████████▊                               | 127/210 [00:00<00:00, 177.15it/s]"
     ]
    },
    {
     "name": "stdout",
     "output_type": "stream",
     "text": [
      "(200, 200, 3)\n",
      "(200, 200, 3)\n",
      "(200, 200, 3)\n",
      "(200, 200, 3)\n",
      "(200, 200, 3)\n",
      "(200, 200, 3)\n",
      "(200, 200, 3)\n",
      "(200, 200, 3)\n",
      "(200, 200, 3)\n",
      "(200, 200, 3)\n",
      "(200, 200, 3)\n",
      "(200, 200, 3)\n",
      "(200, 200, 3)\n",
      "(200, 200, 3)\n",
      "(200, 200, 3)\n",
      "(200, 200, 3)\n",
      "(200, 200, 3)\n",
      "(200, 200, 3)\n",
      "(200, 200, 3)\n"
     ]
    },
    {
     "name": "stderr",
     "output_type": "stream",
     "text": [
      "\r",
      " 70%|██████████████████████████████████████████████████████▉                        | 146/210 [00:00<00:00, 178.67it/s]"
     ]
    },
    {
     "name": "stdout",
     "output_type": "stream",
     "text": [
      "(200, 200, 3)\n",
      "(200, 200, 3)\n",
      "(200, 200, 3)\n",
      "(200, 200, 3)\n",
      "(200, 200, 3)\n",
      "(200, 200, 3)\n",
      "(200, 200, 3)\n",
      "(200, 200, 3)\n",
      "(200, 200, 3)\n",
      "(200, 200, 3)\n",
      "(200, 200, 3)\n",
      "(200, 200, 3)\n",
      "(200, 200, 3)\n",
      "(200, 200, 3)\n",
      "(200, 200, 3)\n",
      "(200, 200, 3)\n",
      "(200, 200, 3)\n",
      "(200, 200, 3)\n"
     ]
    },
    {
     "name": "stderr",
     "output_type": "stream",
     "text": [
      "\r",
      " 78%|█████████████████████████████████████████████████████████████▋                 | 164/210 [00:00<00:00, 178.37it/s]"
     ]
    },
    {
     "name": "stdout",
     "output_type": "stream",
     "text": [
      "(200, 200, 3)\n",
      "(200, 200, 3)\n",
      "(200, 200, 3)\n",
      "(200, 200, 3)\n",
      "(200, 200, 3)\n",
      "(200, 200, 3)\n",
      "(200, 200, 3)\n",
      "(200, 200, 3)\n",
      "(200, 200, 3)\n",
      "(200, 200, 3)\n",
      "(200, 200, 3)\n",
      "(200, 200, 3)\n",
      "(200, 200, 3)\n",
      "(200, 200, 3)\n",
      "(200, 200, 3)\n",
      "(200, 200, 3)\n",
      "(200, 200, 3)\n",
      "(200, 200, 3)\n"
     ]
    },
    {
     "name": "stderr",
     "output_type": "stream",
     "text": [
      "\r",
      " 87%|████████████████████████████████████████████████████████████████████▍          | 182/210 [00:01<00:00, 177.26it/s]"
     ]
    },
    {
     "name": "stdout",
     "output_type": "stream",
     "text": [
      "(200, 200, 3)\n",
      "(200, 200, 3)\n",
      "(200, 200, 3)\n",
      "(200, 200, 3)\n",
      "(200, 200, 3)\n",
      "(200, 200, 3)\n",
      "(200, 200, 3)\n",
      "(200, 200, 3)\n",
      "(200, 200, 3)\n",
      "(200, 200, 3)\n",
      "(200, 200, 3)\n",
      "(200, 200, 3)\n",
      "(200, 200, 3)\n",
      "(200, 200, 3)\n",
      "(200, 200, 3)\n",
      "(200, 200, 3)\n",
      "(200, 200, 3)\n",
      "(200, 200, 3)\n"
     ]
    },
    {
     "name": "stderr",
     "output_type": "stream",
     "text": [
      "\r",
      " 95%|███████████████████████████████████████████████████████████████████████████▏   | 200/210 [00:01<00:00, 176.99it/s]"
     ]
    },
    {
     "name": "stdout",
     "output_type": "stream",
     "text": [
      "(200, 200, 3)\n",
      "(200, 200, 3)\n",
      "(200, 200, 3)\n",
      "(200, 200, 3)\n",
      "(200, 200, 3)\n",
      "(200, 200, 3)\n",
      "(200, 200, 3)\n",
      "(200, 200, 3)\n",
      "(200, 200, 3)\n",
      "(200, 200, 3)\n"
     ]
    },
    {
     "name": "stderr",
     "output_type": "stream",
     "text": [
      "100%|███████████████████████████████████████████████████████████████████████████████| 210/210 [00:01<00:00, 177.19it/s]\n"
     ]
    }
   ],
   "source": [
    "import matplotlib.pyplot as plt\n",
    "import numpy as np\n",
    "import sys, os, cv2\n",
    "from tqdm import tqdm\n",
    "from keras.models import Sequential, Model\n",
    "from keras.layers import LeakyReLU, Conv2D\n",
    "\n",
    "\n",
    "class GAN():\n",
    "    def __init__(self):\n",
    "        self.train_dir = \"C:/Users/Hong/Desktop/GAN/images\"\n",
    "        for x in tqdm(os.listdir(self.train_dir)):\n",
    "            path = os.path.join(self.train_dir, x)\n",
    "            self.img = cv2.imread(path)\n",
    "            self.img = cv2.resize(img, (200, 200)) \n",
    "           \n",
    "    def Discriminator(self):\n",
    "        \n",
    "        model = Sequential()\n",
    "        \n",
    "        model.add(Conv2D(32, kernel_size=3, activation = \"relu\", strides=2, input_shape=self.img.shape, padding=\"same\"))\n",
    "        model.add(LeakyReLU(alpha=0.2))\n",
    "        model.add(Dropout(0.25))[]\n",
    "        model.add(Conv2D(64, kernel_size=3, strides=2, padding=\"same\"))\n",
    "        model.add(LeakyReLU(alpha=0.2))\n",
    "        model.add(Dropout(0.25))\n",
    "        model.add(Flatten())\n",
    "        model.add(Dense(1, activation=\"sigmoid\"))\n",
    "        \n",
    "    def Generator(self):\n",
    "        \n",
    "        model = Sequential()\n",
    "        \n",
    "        model.add(Conv2D(32, kernel_size=3, strides=2, \n",
    "                         input_shape=self.img.shape, padding=\"same\"))\n",
    "        \n",
    "\n",
    "if __name__==\"__main__\":\n",
    "    GAN()\n"
   ]
  },
  {
   "cell_type": "code",
   "execution_count": 2,
   "metadata": {},
   "outputs": [
    {
     "data": {
      "text/plain": [
       "784"
      ]
     },
     "execution_count": 2,
     "metadata": {},
     "output_type": "execute_result"
    }
   ],
   "source": [
    "from __future__ import print_function, division\n",
    "\n",
    "from keras.datasets import mnist\n",
    "from keras.layers import Input, Dense, Reshape, Flatten, Dropout\n",
    "from keras.layers import BatchNormalization, Activation, ZeroPadding2D\n",
    "from keras.layers.advanced_activations import LeakyReLU\n",
    "from keras.layers.convolutional import UpSampling2D, Conv2D\n",
    "from keras.models import Sequential, Model\n",
    "from keras.optimizers import Adam\n",
    "\n",
    "import matplotlib.pyplot as plt\n",
    "\n",
    "import sys\n",
    "\n",
    "import numpy as np\n",
    "\n",
    "class GAN():\n",
    "    def __init__(self):\n",
    "\n",
    "        optimizer = Adam(0.0002, 0.5)\n",
    "        # 0.5는 decay(학습속도를 늦추는 효과) ?\n",
    "\n",
    "        self.discriminator = self.build_discriminator()\n",
    "        self.discriminator.compile(loss='binary_crossentropy',\n",
    "            optimizer=optimizer,\n",
    "            metrics=['accuracy'])\n",
    "\n",
    "        # Build and compile the generator\n",
    "        self.generator = self.build_generator()\n",
    "        self.generator.compile(loss='binary_crossentropy', optimizer=optimizer)\n",
    "\n",
    "        # The generator takes noise as input and generates imgs\n",
    "        z = Input(shape=(100,))\n",
    "        img = self.generator(z)\n",
    "\n",
    "        # For the combined model we will only train the generator\n",
    "        self.discriminator.trainable = False\n",
    "\n",
    "        # The discriminator takes generated images as input and determines validity\n",
    "        valid = self.discriminator(img)\n",
    "\n",
    "        # The combined model  (stacked generator and discriminator) takes\n",
    "        # noise as input => generates images => determines validity\n",
    "        self.combined = Model(z, valid)\n",
    "        self.combined.compile(loss='binary_crossentropy', optimizer=optimizer)\n",
    "\n",
    "\n",
    "    def build_generator(self):\n",
    "\n",
    "        noise_shape = (100,)\n",
    "\n",
    "        model = Sequential()\n",
    "\n",
    "        model.add(Dense(256, input_shape=noise_shape))\n",
    "        model.add(LeakyReLU(alpha=0.2))\n",
    "        model.add(BatchNormalization(momentum=0.8))\n",
    "        model.add(Dense(512))\n",
    "        model.add(LeakyReLU(alpha=0.2))\n",
    "        model.add(BatchNormalization(momentum=0.8))\n",
    "        model.add(Dense(1024))\n",
    "        model.add(LeakyReLU(alpha=0.2))\n",
    "        model.add(BatchNormalization(momentum=0.8))\n",
    "        model.add(Dense(np.prod(self.img_shape), activation='tanh'))\n",
    "        # np.prod -> 원소들의 곱\n",
    "        model.add(Reshape(self.img_shape))\n",
    "\n",
    "        model.summary()\n",
    "\n",
    "        noise = Input(shape=noise_shape)\n",
    "        img = model(noise)\n",
    "\n",
    "        return Model(noise, img)\n",
    "\n",
    "    def build_discriminator(self):\n",
    "\n",
    "        img_shape = (self.img_rows, self.img_cols, self.channels)\n",
    "\n",
    "        model = Sequential()\n",
    "\n",
    "        model.add(Flatten(input_shape=img_shape))\n",
    "        model.add(Dense(512))\n",
    "        model.add(LeakyReLU(alpha=0.2))\n",
    "        model.add(Dense(256))\n",
    "        model.add(LeakyReLU(alpha=0.2))\n",
    "        model.add(Dense(1, activation='sigmoid'))\n",
    "        model.summary()\n",
    "\n",
    "        img = Input(shape=img_shape)\n",
    "        validity = model(img)\n",
    "\n",
    "        return Model(img, validity)\n",
    "\n",
    "    def train(self, epochs, batch_size=128, sample_interval=50):\n",
    "        \n",
    "        Real_img = \"\"\n",
    "        X_train = Real_img\n",
    "        \n",
    "        # resize -1 ~ 1\n",
    "        X_train = (X_train.astype(np.float32) - 127.5) / 127.5\n",
    "        X_train = np.expand_dims(X_train, axis=3)\n",
    "\n",
    "        half_batch = int(batch_size / 2)\n",
    "\n",
    "        for epoch in range(epochs):\n",
    "\n",
    "            # ---------------------\n",
    "            #  Train Discriminator\n",
    "            # ---------------------\n",
    "\n",
    "            # Select a random half batch of images\n",
    "            idx = np.random.randint(0, X_train.shape[0], half_batch)\n",
    "            imgs = X_train[idx]\n",
    "\n",
    "            noise = np.random.normal(0, 1, (half_batch, 100))\n",
    "            # noise.shape = (64, 100)\n",
    "\n",
    "            # Generate a half batch of new images\n",
    "            gen_imgs = self.generator.predict(noise)\n",
    "\n",
    "            # Train the discriminator\n",
    "            d_loss_real = self.discriminator.train_on_batch(imgs, np.ones((half_batch, 1)))\n",
    "            d_loss_fake = self.discriminator.train_on_batch(gen_imgs, np.zeros((half_batch, 1)))\n",
    "            d_loss = 0.5 * np.add(d_loss_real, d_loss_fake)\n",
    "\n",
    "\n",
    "            # ---------------------\n",
    "            #  Train Generator\n",
    "            # ---------------------\n",
    "\n",
    "            noise = np.random.normal(0, 1, (batch_size, 100))\n",
    "\n",
    "            # The generator wants the discriminator to label the generated samples\n",
    "            # as valid (ones)\n",
    "            valid_y = np.array([1] * batch_size)\n",
    "\n",
    "            # Train the generator\n",
    "            g_loss = self.combined.train_on_batch(noise, valid_y)\n",
    "\n",
    "            # Plot the progress\n",
    "            print (\"%d [D loss: %f, acc.: %.2f%%] [G loss: %f]\" % (epoch, d_loss[0], 100*d_loss[1], g_loss))\n",
    "\n",
    "            # If at save interval => save generated image samples\n",
    "            if epoch % sample_interval == 0:\n",
    "                self.sample_images(epoch)\n",
    "\n",
    "    def sample_images(self, epoch):\n",
    "        r, c = 5, 5\n",
    "        noise = np.random.normal(0, 1, (r * c, 100))\n",
    "        gen_imgs = self.generator.predict(noise)\n",
    "\n",
    "        # Rescale images 0 - 1\n",
    "        gen_imgs = 0.5 * gen_imgs + 0.5\n",
    "\n",
    "        fig, axs = plt.subplots(r, c)\n",
    "        cnt = 0\n",
    "        for i in range(r):\n",
    "            for j in range(c):\n",
    "                axs[i,j].imshow(gen_imgs[cnt, :,:,0], cmap='gray')\n",
    "                axs[i,j].axis('off')\n",
    "                cnt += 1\n",
    "        fig.savefig(\"images/mnist_%d.png\" % epoch)\n",
    "        plt.close()\n",
    "\n",
    "\n",
    "if __name__ == '__main__':\n",
    "    gan = GAN()\n",
    "    gan.train(epochs=30000, batch_size=32, sample_interval=200)"
   ]
  },
  {
   "cell_type": "code",
   "execution_count": 17,
   "metadata": {},
   "outputs": [
    {
     "name": "stdout",
     "output_type": "stream",
     "text": [
      "(60000, 28, 28)\n",
      "++++++++++++++++++++++++++++++++++++++++++++\n",
      "(60000, 28, 28, 1)\n"
     ]
    }
   ],
   "source": [
    "from __future__ import print_function, division\n",
    "\n",
    "from keras.datasets import mnist\n",
    "from keras.layers import Input, Dense, Reshape, Flatten, Dropout\n",
    "from keras.layers import BatchNormalization, Activation, ZeroPadding2D\n",
    "from keras.layers.advanced_activations import LeakyReLU\n",
    "from keras.layers.convolutional import UpSampling2D, Conv2D\n",
    "from keras.models import Sequential, Model\n",
    "from keras.optimizers import Adam\n",
    "\n",
    "import matplotlib.pyplot as plt\n",
    "\n",
    "import sys\n",
    "\n",
    "import numpy as np\n",
    "\n",
    "(X_train, _), (_, _) = mnist.load_data()\n",
    "\n",
    "\n",
    "X_train = (X_train.astype(np.float32) - 127.5) / 127.5\n",
    "print(X_train.shape)\n",
    "print(\"++++++++++++++++++++++++++++++++++++++++++++\")\n",
    "X_train = np.expand_dims(X_train, axis=3)\n",
    "print(X_train.shape)"
   ]
  },
  {
   "cell_type": "code",
   "execution_count": 23,
   "metadata": {},
   "outputs": [
    {
     "name": "stdout",
     "output_type": "stream",
     "text": [
      "[[ 1.09881161 -0.17366327  1.53120637 ...  0.0385272   0.02218968\n",
      "   1.910659  ]\n",
      " [ 1.30584096 -0.55882786 -0.36786173 ... -0.44185947  1.64187811\n",
      "  -0.31994307]\n",
      " [-0.3451339   0.94297142 -0.54715354 ...  0.99470193 -1.14299788\n",
      "   0.4883288 ]\n",
      " ...\n",
      " [ 0.51402091  1.18819266  0.52417302 ... -1.42663432 -0.56535986\n",
      "   1.42667426]\n",
      " [ 0.66434695  0.30489135 -0.57692086 ... -0.06230748 -0.02031131\n",
      "  -0.94800024]\n",
      " [ 0.16309701  1.07354061  1.19973444 ... -0.02845896  0.90585622\n",
      "  -0.3624385 ]] 64\n"
     ]
    }
   ],
   "source": [
    "(X_train, _), (_, _) = mnist.load_data()\n",
    "idx = np.random.randint(0, X_train.shape[0], 64)\n",
    "noise = np.random.normal(0, 1, (64, 100))\n",
    "print(noise, len(noise))"
   ]
  },
  {
   "cell_type": "code",
   "execution_count": 25,
   "metadata": {},
   "outputs": [
    {
     "data": {
      "text/plain": [
       "(64, 100)"
      ]
     },
     "execution_count": 25,
     "metadata": {},
     "output_type": "execute_result"
    }
   ],
   "source": [
    "noise.shape"
   ]
  }
 ],
 "metadata": {
  "kernelspec": {
   "display_name": "Python 3",
   "language": "python",
   "name": "python3"
  },
  "language_info": {
   "codemirror_mode": {
    "name": "ipython",
    "version": 3
   },
   "file_extension": ".py",
   "mimetype": "text/x-python",
   "name": "python",
   "nbconvert_exporter": "python",
   "pygments_lexer": "ipython3",
   "version": "3.6.3"
  }
 },
 "nbformat": 4,
 "nbformat_minor": 2
}
